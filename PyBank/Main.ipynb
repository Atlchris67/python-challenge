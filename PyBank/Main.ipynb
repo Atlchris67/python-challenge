{
 "cells": [
  {
   "cell_type": "code",
   "execution_count": 1,
   "metadata": {},
   "outputs": [],
   "source": [
    "import os\n",
    "import string\n",
    "import csv"
   ]
  },
  {
   "cell_type": "code",
   "execution_count": 2,
   "metadata": {},
   "outputs": [],
   "source": [
    "csvpath = os.path.join( 'Resources', 'budget_data.csv')"
   ]
  },
  {
   "cell_type": "code",
   "execution_count": 3,
   "metadata": {},
   "outputs": [],
   "source": [
    "#Declare Accumulators\n",
    "totalMonths = 0 \n",
    "total = 0.00\n",
    "totalChange = 0.00\n",
    "averageChange = 0.00\n",
    "greatestIncrease = 0.00\n",
    "greatestDecrease = 0.00\n",
    "greatestIncreaseMonth = \"\"\n",
    "greatestDecreaseMonth = \"\""
   ]
  },
  {
   "cell_type": "code",
   "execution_count": 4,
   "metadata": {},
   "outputs": [],
   "source": [
    "#Declare value holders\n",
    "lastRow = 0.00\n",
    "rowCount = 1\n",
    "firstMonth = 0\n",
    "lastMonth = 0"
   ]
  },
  {
   "cell_type": "code",
   "execution_count": 5,
   "metadata": {},
   "outputs": [],
   "source": [
    "firstRow = True\n",
    "\n",
    "with open(csvpath, newline='') as csvfile:\n",
    "\n",
    "    # CSV reader specifies delimiter and variable that holds contents\n",
    "    csvreader = csv.reader(csvfile, delimiter=',')\n",
    "    csv_header = next(csvreader)\n",
    "    for row in csvreader:\n",
    "        lastMonth = float(row[1])\n",
    "        if firstRow == True:\n",
    "            firstRow = False\n",
    "            firstMonth = float(row[1])\n",
    "        totalMonths += 1\n",
    "        total += float(row[1])\n",
    "        if (rowCount > 1):\n",
    "            totalChange = float(row[1]) - lastRow  \n",
    "        rowCount += 1\n",
    "        lastRow = float(row[1])\n",
    " \n",
    "        if (totalChange > greatestIncrease):\n",
    "            greatestIncrease = totalChange\n",
    "            greatestIncreaseMonth = row[0] \n",
    "               \n",
    "        if (totalChange < greatestDecrease): \n",
    "            greatestDecrease = totalChange\n",
    "            greatestDecreaseMonth = row[0]     "
   ]
  },
  {
   "cell_type": "code",
   "execution_count": 6,
   "metadata": {},
   "outputs": [],
   "source": [
    "averageChange = float(lastMonth - firstMonth)/float(rowCount)"
   ]
  },
  {
   "cell_type": "code",
   "execution_count": 9,
   "metadata": {},
   "outputs": [
    {
     "name": "stdout",
     "output_type": "stream",
     "text": [
      "    Financial Analysis \n",
      "----------------------------\n",
      "Total Months: 86\n",
      "Total: $38,382,578.00\n",
      "Average  Change: -$2,261.90\n",
      "Greatest Increase in Profits: Feb-2012 $1,926,159.00\n",
      "Greatest Decrease in Profits: Sep-2013 -$2,196,167.00\n"
     ]
    }
   ],
   "source": [
    "result = \"    Financial Analysis \\n\" \\\n",
    "\"----------------------------\\n\" \\\n",
    "\"Total Months: \" + str(totalMonths) + \\\n",
    "\"\\nTotal: \" + \"${:0,.2f}\".format(total).replace('$-','-$') +\\\n",
    "\"\\nAverage  Change: \" + \"${:0,.2f}\".format(averageChange).replace('$-','-$') + \\\n",
    "\"\\nGreatest Increase in Profits: \" + greatestIncreaseMonth  + \" ${:0,.2f}\".format(greatestIncrease).replace('$-','-$') + \\\n",
    "\"\\nGreatest Decrease in Profits: \" + greatestDecreaseMonth + \" ${:0,.2f}\".format(greatestDecrease).replace('$-','-$') \n",
    "print(result)"
   ]
  },
  {
   "cell_type": "code",
   "execution_count": 8,
   "metadata": {},
   "outputs": [],
   "source": [
    "# File path  \n",
    "path = \"./salesOutput.txt\"\n",
    "  \n",
    "# Open the file and get \n",
    "mode = 0o666\n",
    "flags = os.O_RDWR | os.O_CREAT \n",
    "fd = os.open(path, flags, mode)  \n",
    "  \n",
    "# Convert the string to bytes \n",
    "line = str.encode(result) \n",
    "\n",
    "numBytes = os.write(fd, line) \n",
    "    \n",
    "# close the file descriptor \n",
    "os.close(fd) "
   ]
  }
 ],
 "metadata": {
  "kernelspec": {
   "display_name": "Python 3",
   "language": "python",
   "name": "python3"
  },
  "language_info": {
   "codemirror_mode": {
    "name": "ipython",
    "version": 3
   },
   "file_extension": ".py",
   "mimetype": "text/x-python",
   "name": "python",
   "nbconvert_exporter": "python",
   "pygments_lexer": "ipython3",
   "version": "3.7.1"
  }
 },
 "nbformat": 4,
 "nbformat_minor": 4
}
