{
 "cells": [
  {
   "cell_type": "code",
   "execution_count": 20,
   "metadata": {},
   "outputs": [],
   "source": [
    "import pandas as pd\n",
    "import os\n",
    "import csv"
   ]
  },
  {
   "cell_type": "code",
   "execution_count": 21,
   "metadata": {},
   "outputs": [],
   "source": [
    "data_file = \"Resources/election_data.csv\"\n",
    "data_file_pd = pd.read_csv(data_file)"
   ]
  },
  {
   "cell_type": "code",
   "execution_count": 22,
   "metadata": {},
   "outputs": [],
   "source": [
    "csvpath = os.path.join( 'Resources', 'election_data.csv')"
   ]
  },
  {
   "cell_type": "code",
   "execution_count": 23,
   "metadata": {},
   "outputs": [],
   "source": [
    "file_one_df = pd.read_csv(csvpath, encoding=\"utf-8\")"
   ]
  },
  {
   "cell_type": "code",
   "execution_count": 24,
   "metadata": {},
   "outputs": [],
   "source": [
    "value_counts = file_one_df[\"Candidate\"].value_counts(dropna=True)"
   ]
  },
  {
   "cell_type": "code",
   "execution_count": 25,
   "metadata": {},
   "outputs": [],
   "source": [
    "df_val_counts = pd.DataFrame(value_counts)"
   ]
  },
  {
   "cell_type": "code",
   "execution_count": 26,
   "metadata": {},
   "outputs": [],
   "source": [
    "results_df = df_val_counts.rename(columns = {'Candidate':'Results'}) "
   ]
  },
  {
   "cell_type": "code",
   "execution_count": 27,
   "metadata": {},
   "outputs": [],
   "source": [
    "results_df['PCT'] = (results_df.Results / results_df.Results.sum())"
   ]
  },
  {
   "cell_type": "code",
   "execution_count": 28,
   "metadata": {},
   "outputs": [],
   "source": [
    "results_df['PCT'] = pd.Series([\"{0:.2f}%\".format(val * 100) for val in results_df['PCT']], index = results_df.index)"
   ]
  },
  {
   "cell_type": "code",
   "execution_count": 29,
   "metadata": {},
   "outputs": [
    {
     "name": "stdout",
     "output_type": "stream",
     "text": [
      "Election Results\n",
      "-------------------------\n",
      "Total Votes: 3521001\n",
      "-------------------------\n",
      "\n",
      "          Results     PCT\n",
      "Khan      2218231  63.00%\n",
      "Correy     704200  20.00%\n",
      "Li         492940  14.00%\n",
      "O'Tooley   105630   3.00%\n",
      "-------------------------\n",
      "\n",
      "Winner Khan!!!!!\n"
     ]
    }
   ],
   "source": [
    "print( \"Election Results\\n-------------------------\")\n",
    "print( \"Total Votes: {0}\".format( + results_df['Results'].sum()))\n",
    "print( \"-------------------------\\n\")\n",
    "print(results_df)\n",
    "print( \"-------------------------\\n\")\n",
    "print( \"Winner \" + results_df[\"Results\"].idxmax() + \"!!!!!\") "
   ]
  },
  {
   "cell_type": "code",
   "execution_count": null,
   "metadata": {},
   "outputs": [],
   "source": []
  }
 ],
 "metadata": {
  "kernelspec": {
   "display_name": "Python 3",
   "language": "python",
   "name": "python3"
  },
  "language_info": {
   "codemirror_mode": {
    "name": "ipython",
    "version": 3
   },
   "file_extension": ".py",
   "mimetype": "text/x-python",
   "name": "python",
   "nbconvert_exporter": "python",
   "pygments_lexer": "ipython3",
   "version": "3.7.1"
  }
 },
 "nbformat": 4,
 "nbformat_minor": 4
}
