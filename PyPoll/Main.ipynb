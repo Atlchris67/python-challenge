{
 "cells": [
  {
   "cell_type": "code",
   "execution_count": 32,
   "metadata": {},
   "outputs": [],
   "source": [
    "import pandas as pd\n",
    "import os\n",
    "import csv"
   ]
  },
  {
   "cell_type": "code",
   "execution_count": 33,
   "metadata": {},
   "outputs": [],
   "source": [
    "data_file = \"Resources/election_data.csv\"\n",
    "data_file_pd = pd.read_csv(data_file)"
   ]
  },
  {
   "cell_type": "code",
   "execution_count": 34,
   "metadata": {},
   "outputs": [],
   "source": [
    "csvpath = os.path.join( 'Resources', 'election_data.csv')"
   ]
  },
  {
   "cell_type": "code",
   "execution_count": 35,
   "metadata": {},
   "outputs": [],
   "source": [
    "file_one_df = pd.read_csv(csvpath, encoding=\"utf-8\")"
   ]
  },
  {
   "cell_type": "code",
   "execution_count": 36,
   "metadata": {},
   "outputs": [],
   "source": [
    "value_counts = file_one_df[\"Candidate\"].value_counts(dropna=True)"
   ]
  },
  {
   "cell_type": "code",
   "execution_count": 37,
   "metadata": {},
   "outputs": [],
   "source": [
    "df_val_counts = pd.DataFrame(value_counts)"
   ]
  },
  {
   "cell_type": "code",
   "execution_count": 38,
   "metadata": {},
   "outputs": [],
   "source": [
    "results_df = df_val_counts.rename(columns = {'Candidate':'Results'}) "
   ]
  },
  {
   "cell_type": "code",
   "execution_count": 39,
   "metadata": {},
   "outputs": [],
   "source": [
    "results_df['PCT'] = (results_df.Results / results_df.Results.sum())"
   ]
  },
  {
   "cell_type": "code",
   "execution_count": 40,
   "metadata": {},
   "outputs": [],
   "source": [
    "results_df['PCT'] = pd.Series([\"{0:.2f}%\".format(val * 100) for val in results_df['PCT']], index = results_df.index)"
   ]
  },
  {
   "cell_type": "code",
   "execution_count": 43,
   "metadata": {},
   "outputs": [
    {
     "name": "stdout",
     "output_type": "stream",
     "text": [
      "Election Results\n",
      "-------------------------\n",
      "\n",
      "Total Votes: 3521001\n",
      "\n",
      "-------------------------\n",
      "\n",
      "          Results     PCT\n",
      "Khan      2218231  63.00%\n",
      "Correy     704200  20.00%\n",
      "Li         492940  14.00%\n",
      "O'Tooley   105630   3.00%\n",
      "\n",
      "-------------------------\n",
      "\n",
      "Winner Khan!!!!!\n"
     ]
    }
   ],
   "source": [
    "print(\"Election Results\\n-------------------------\\n\")\n",
    "print(\"Total Votes: {0}\".format( + results_df['Results'].sum()))\n",
    "print(\"\\n-------------------------\\n\" )\n",
    "\n",
    "print(results_df) \n",
    "print(\"\\n-------------------------\\n\")\n",
    "print(\"Winner \" + results_df[\"Results\"].idxmax() + \"!!!!!\") "
   ]
  },
  {
   "cell_type": "code",
   "execution_count": 42,
   "metadata": {},
   "outputs": [],
   "source": [
    "\n",
    "# File path  \n",
    "path = \"./pollOutput.txt\"\n",
    "  \n",
    "# Open the file and get \n",
    "mode = 0o666\n",
    "flags = os.O_RDWR | os.O_CREAT \n",
    "fd = os.open(path, flags, mode)  \n",
    "  \n",
    "\n",
    "result_str = \"Election Results\\n-------------------------\\n\" \\\n",
    "\"Total Votes: {0}\".format( + results_df['Results'].sum()) + \\\n",
    "\"\\n-------------------------\\n\" \n",
    "\n",
    "# Convert the string to bytes \n",
    "line = str.encode(result_str) \n",
    "numBytes = os.write(fd, line) \n",
    "\n",
    "line = str.encode(results_df.to_string()) \n",
    "numBytes = os.write(fd, line) \n",
    "\n",
    "result_str =  \"\\n-------------------------\\n\" \\\n",
    "\"Winner \" + results_df[\"Results\"].idxmax() + \"!!!!!\" \n",
    "\n",
    "line = str.encode(result_str) \n",
    "numBytes = os.write(fd, line) \n",
    "\n",
    "os.close(fd) "
   ]
  }
 ],
 "metadata": {
  "kernelspec": {
   "display_name": "Python 3",
   "language": "python",
   "name": "python3"
  },
  "language_info": {
   "codemirror_mode": {
    "name": "ipython",
    "version": 3
   },
   "file_extension": ".py",
   "mimetype": "text/x-python",
   "name": "python",
   "nbconvert_exporter": "python",
   "pygments_lexer": "ipython3",
   "version": "3.7.1"
  }
 },
 "nbformat": 4,
 "nbformat_minor": 4
}
